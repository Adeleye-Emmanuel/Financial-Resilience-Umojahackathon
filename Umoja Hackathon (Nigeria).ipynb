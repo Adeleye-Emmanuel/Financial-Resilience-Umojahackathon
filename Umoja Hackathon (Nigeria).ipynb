{
 "cells": [
  {
   "cell_type": "markdown",
   "id": "composed-negative",
   "metadata": {},
   "source": [
    "# Umoja Hackathon Nigeria"
   ]
  },
  {
   "cell_type": "markdown",
   "id": "residential-surname",
   "metadata": {},
   "source": [
    "# Financial Resilience Challenge"
   ]
  },
  {
   "cell_type": "code",
   "execution_count": 7,
   "id": "wanted-gibson",
   "metadata": {},
   "outputs": [],
   "source": [
    "import numpy as np\n",
    "import pandas as pd\n",
    "import datetime,time\n",
    "from sklearn.impute import SimpleImputer\n",
    "from sklearn.model_selection import train_test_split,cross_val_score,GridSearchCV,StratifiedKFold\n",
    "from sklearn.pipeline import Pipeline\n",
    "from sklearn.preprocessing import StandardScaler,MinMaxScaler\n",
    "from sklearn.linear_model import LogisticRegression\n",
    "from sklearn.svm import SVC\n",
    "from sklearn.neural_network import MLPClassifier\n",
    "from sklearn.tree import DecisionTreeClassifier\n",
    "from sklearn.ensemble import RandomForestClassifier,AdaBoostClassifier,GradientBoostingClassifier\n",
    "from sklearn.metrics import accuracy_score,f1_score,confusion_matrix,classification_report,roc_auc_score,average_precision_score"
   ]
  },
  {
   "cell_type": "code",
   "execution_count": 8,
   "id": "imposed-circuit",
   "metadata": {},
   "outputs": [],
   "source": [
    "import matplotlib.pyplot as plt\n",
    "%matplotlib inline\n",
    "import seaborn as sns"
   ]
  },
  {
   "cell_type": "code",
   "execution_count": 9,
   "id": "impaired-doctor",
   "metadata": {},
   "outputs": [],
   "source": [
    "train=pd.read_csv('/storage/emulated/0/Download/Umojahackathon/train.csv',index_col=False)\n",
    "test=pd.read_csv('/storage/emulated/0/Download/Umojahackathon/test.csv',index_col=False)"
   ]
  },
  {
   "cell_type": "code",
   "execution_count": 10,
   "id": "miniature-mystery",
   "metadata": {
    "scrolled": false
   },
   "outputs": [
    {
     "name": "stdout",
     "output_type": "stream",
     "text": [
      "<class 'pandas.core.frame.DataFrame'>\n",
      "RangeIndex: 12079 entries, 0 to 12078\n",
      "Data columns (total 14 columns):\n",
      " #   Column                  Non-Null Count  Dtype \n",
      "---  ------                  --------------  ----- \n",
      " 0   ID                      12079 non-null  object\n",
      " 1   Policy Start Date       12079 non-null  object\n",
      " 2   Policy End Date         12079 non-null  object\n",
      " 3   Gender                  11720 non-null  object\n",
      " 4   Age                     12079 non-null  int64 \n",
      " 5   First Transaction Date  12079 non-null  object\n",
      " 6   No_Pol                  12079 non-null  int64 \n",
      " 7   Car_Category            8341 non-null   object\n",
      " 8   Subject_Car_Colour      5117 non-null   object\n",
      " 9   Subject_Car_Make        9603 non-null   object\n",
      " 10  LGA_Name                5603 non-null   object\n",
      " 11  State                   5591 non-null   object\n",
      " 12  ProductName             12079 non-null  object\n",
      " 13  target                  12079 non-null  int64 \n",
      "dtypes: int64(3), object(11)\n",
      "memory usage: 802.2+ KB\n"
     ]
    }
   ],
   "source": [
    "train.info()"
   ]
  },
  {
   "cell_type": "code",
   "execution_count": 11,
   "id": "vocal-letter",
   "metadata": {},
   "outputs": [
    {
     "data": {
      "text/html": [
       "<div>\n",
       "<style scoped>\n",
       "    .dataframe tbody tr th:only-of-type {\n",
       "        vertical-align: middle;\n",
       "    }\n",
       "\n",
       "    .dataframe tbody tr th {\n",
       "        vertical-align: top;\n",
       "    }\n",
       "\n",
       "    .dataframe thead th {\n",
       "        text-align: right;\n",
       "    }\n",
       "</style>\n",
       "<table border=\"1\" class=\"dataframe\">\n",
       "  <thead>\n",
       "    <tr style=\"text-align: right;\">\n",
       "      <th></th>\n",
       "      <th>ID</th>\n",
       "      <th>Policy Start Date</th>\n",
       "      <th>Policy End Date</th>\n",
       "      <th>Gender</th>\n",
       "      <th>Age</th>\n",
       "      <th>First Transaction Date</th>\n",
       "      <th>No_Pol</th>\n",
       "      <th>Car_Category</th>\n",
       "      <th>Subject_Car_Colour</th>\n",
       "      <th>Subject_Car_Make</th>\n",
       "      <th>LGA_Name</th>\n",
       "      <th>State</th>\n",
       "      <th>ProductName</th>\n",
       "      <th>target</th>\n",
       "    </tr>\n",
       "  </thead>\n",
       "  <tbody>\n",
       "    <tr>\n",
       "      <th>0</th>\n",
       "      <td>0040R73</td>\n",
       "      <td>2010-05-14</td>\n",
       "      <td>2011-05-13</td>\n",
       "      <td>Male</td>\n",
       "      <td>30</td>\n",
       "      <td>2010-05-14</td>\n",
       "      <td>1</td>\n",
       "      <td>Saloon</td>\n",
       "      <td>Black</td>\n",
       "      <td>TOYOTA</td>\n",
       "      <td>NaN</td>\n",
       "      <td>NaN</td>\n",
       "      <td>Car Classic</td>\n",
       "      <td>0</td>\n",
       "    </tr>\n",
       "    <tr>\n",
       "      <th>1</th>\n",
       "      <td>0046BNK</td>\n",
       "      <td>2010-11-29</td>\n",
       "      <td>2011-11-28</td>\n",
       "      <td>Female</td>\n",
       "      <td>79</td>\n",
       "      <td>2010-11-29</td>\n",
       "      <td>1</td>\n",
       "      <td>JEEP</td>\n",
       "      <td>Grey</td>\n",
       "      <td>TOYOTA</td>\n",
       "      <td>NaN</td>\n",
       "      <td>NaN</td>\n",
       "      <td>Car Classic</td>\n",
       "      <td>1</td>\n",
       "    </tr>\n",
       "    <tr>\n",
       "      <th>2</th>\n",
       "      <td>005QMC3</td>\n",
       "      <td>2010-03-21</td>\n",
       "      <td>2011-03-20</td>\n",
       "      <td>Male</td>\n",
       "      <td>43</td>\n",
       "      <td>2010-03-21</td>\n",
       "      <td>1</td>\n",
       "      <td>Saloon</td>\n",
       "      <td>Red</td>\n",
       "      <td>TOYOTA</td>\n",
       "      <td>NaN</td>\n",
       "      <td>NaN</td>\n",
       "      <td>Car Classic</td>\n",
       "      <td>0</td>\n",
       "    </tr>\n",
       "    <tr>\n",
       "      <th>3</th>\n",
       "      <td>0079OHW</td>\n",
       "      <td>2010-08-21</td>\n",
       "      <td>2011-08-20</td>\n",
       "      <td>Male</td>\n",
       "      <td>2</td>\n",
       "      <td>2010-08-21</td>\n",
       "      <td>1</td>\n",
       "      <td>NaN</td>\n",
       "      <td>NaN</td>\n",
       "      <td>NaN</td>\n",
       "      <td>NaN</td>\n",
       "      <td>NaN</td>\n",
       "      <td>CarSafe</td>\n",
       "      <td>0</td>\n",
       "    </tr>\n",
       "    <tr>\n",
       "      <th>4</th>\n",
       "      <td>00BRP63</td>\n",
       "      <td>2010-08-29</td>\n",
       "      <td>2010-12-31</td>\n",
       "      <td>Entity</td>\n",
       "      <td>20</td>\n",
       "      <td>2010-08-29</td>\n",
       "      <td>3</td>\n",
       "      <td>NaN</td>\n",
       "      <td>NaN</td>\n",
       "      <td>NaN</td>\n",
       "      <td>Lagos</td>\n",
       "      <td>Lagos</td>\n",
       "      <td>Muuve</td>\n",
       "      <td>1</td>\n",
       "    </tr>\n",
       "  </tbody>\n",
       "</table>\n",
       "</div>"
      ],
      "text/plain": [
       "        ID Policy Start Date Policy End Date  Gender  Age  \\\n",
       "0  0040R73        2010-05-14      2011-05-13    Male   30   \n",
       "1  0046BNK        2010-11-29      2011-11-28  Female   79   \n",
       "2  005QMC3        2010-03-21      2011-03-20    Male   43   \n",
       "3  0079OHW        2010-08-21      2011-08-20    Male    2   \n",
       "4  00BRP63        2010-08-29      2010-12-31  Entity   20   \n",
       "\n",
       "  First Transaction Date  No_Pol Car_Category Subject_Car_Colour  \\\n",
       "0             2010-05-14       1       Saloon              Black   \n",
       "1             2010-11-29       1         JEEP               Grey   \n",
       "2             2010-03-21       1       Saloon                Red   \n",
       "3             2010-08-21       1          NaN                NaN   \n",
       "4             2010-08-29       3          NaN                NaN   \n",
       "\n",
       "  Subject_Car_Make LGA_Name  State  ProductName  target  \n",
       "0           TOYOTA      NaN    NaN  Car Classic       0  \n",
       "1           TOYOTA      NaN    NaN  Car Classic       1  \n",
       "2           TOYOTA      NaN    NaN  Car Classic       0  \n",
       "3              NaN      NaN    NaN      CarSafe       0  \n",
       "4              NaN    Lagos  Lagos        Muuve       1  "
      ]
     },
     "execution_count": 11,
     "metadata": {},
     "output_type": "execute_result"
    }
   ],
   "source": [
    "train.head()"
   ]
  },
  {
   "cell_type": "code",
   "execution_count": 12,
   "id": "large-romania",
   "metadata": {},
   "outputs": [
    {
     "data": {
      "text/plain": [
       "<matplotlib.axes._subplots.AxesSubplot at 0xdb4b1f28>"
      ]
     },
     "execution_count": 12,
     "metadata": {},
     "output_type": "execute_result"
    },
    {
     "data": {
      "image/png": "[encoded data removed]",
      "text/plain": [
       "<Figure size 1440x720 with 1 Axes>"
      ]
     },
     "metadata": {
      "needs_background": "light"
     },
     "output_type": "display_data"
    }
   ],
   "source": [
    "fig,ax=plt.subplots(figsize=(20,10))\n",
    "sns.countplot(x='ProductName',hue='Gender',data=train)"
   ]
  },
  {
   "cell_type": "markdown",
   "id": "operating-august",
   "metadata": {},
   "source": [
    "Classical and CarSafe cars were majrly bought by Men and the large population of women purchased CarSafe cars "
   ]
  },
  {
   "cell_type": "code",
   "execution_count": 13,
   "id": "confidential-cabinet",
   "metadata": {},
   "outputs": [
    {
     "data": {
      "text/plain": [
       "<matplotlib.axes._subplots.AxesSubplot at 0xdacda3b8>"
      ]
     },
     "execution_count": 13,
     "metadata": {},
     "output_type": "execute_result"
    },
    {
     "data": {
      "image/png": "[encoded data removed]",
      "text/plain": [
       "<Figure size 432x288 with 2 Axes>"
      ]
     },
     "metadata": {
      "needs_background": "light"
     },
     "output_type": "display_data"
    }
   ],
   "source": [
    "sns.heatmap(train.isnull())"
   ]
  },
  {
   "cell_type": "code",
   "execution_count": 14,
   "id": "empirical-sarah",
   "metadata": {},
   "outputs": [
    {
     "data": {
      "text/plain": [
       "ID                           0\n",
       "Policy Start Date            0\n",
       "Policy End Date              0\n",
       "Gender                     359\n",
       "Age                          0\n",
       "First Transaction Date       0\n",
       "No_Pol                       0\n",
       "Car_Category              3738\n",
       "Subject_Car_Colour        6962\n",
       "Subject_Car_Make          2476\n",
       "LGA_Name                  6476\n",
       "State                     6488\n",
       "ProductName                  0\n",
       "target                       0\n",
       "dtype: int64"
      ]
     },
     "execution_count": 14,
     "metadata": {},
     "output_type": "execute_result"
    }
   ],
   "source": [
    "train.isnull().sum()"
   ]
  },
  {
   "cell_type": "code",
   "execution_count": 15,
   "id": "instrumental-color",
   "metadata": {},
   "outputs": [
    {
     "data": {
      "text/plain": [
       "<matplotlib.axes._subplots.AxesSubplot at 0xdab42f58>"
      ]
     },
     "execution_count": 15,
     "metadata": {},
     "output_type": "execute_result"
    },
    {
     "data": {
      "image/png": "[encoded data removed]",
      "text/plain": [
       "<Figure size 1440x720 with 1 Axes>"
      ]
     },
     "metadata": {
      "needs_background": "light"
     },
     "output_type": "display_data"
    }
   ],
   "source": [
    "fig,ax=plt.subplots(figsize=(20,10))\n",
    "sns.countplot(x='Car_Category',hue='Gender',data=train)"
   ]
  },
  {
   "cell_type": "code",
   "execution_count": null,
   "id": "southeast-dimension",
   "metadata": {},
   "outputs": [],
   "source": [
    "sns.catplot(x='Car_Category',y='Age',kind='swarm',data=train)"
   ]
  },
  {
   "cell_type": "code",
   "execution_count": null,
   "id": "arranged-treat",
   "metadata": {},
   "outputs": [],
   "source": [
    "test.info()"
   ]
  },
  {
   "cell_type": "code",
   "execution_count": null,
   "id": "historic-jumping",
   "metadata": {},
   "outputs": [],
   "source": [
    "#Data Extraction\n",
    "df=train.copy()\n",
    "o_t=train.copy().values\n",
    "target=train.target.values\n",
    "train.drop('target',axis=1,inplace=True)\n",
    "test_id=test['ID']\n",
    "data=pd.concat([train,test],axis=0).drop('ID',axis=1)"
   ]
  },
  {
   "cell_type": "code",
   "execution_count": null,
   "id": "prescription-moore",
   "metadata": {},
   "outputs": [],
   "source": [
    "data.head()"
   ]
  },
  {
   "cell_type": "code",
   "execution_count": null,
   "id": "disciplinary-suicide",
   "metadata": {},
   "outputs": [],
   "source": [
    "data.info()"
   ]
  },
  {
   "cell_type": "code",
   "execution_count": null,
   "id": "suitable-official",
   "metadata": {},
   "outputs": [],
   "source": [
    "data.describe()"
   ]
  },
  {
   "cell_type": "code",
   "execution_count": null,
   "id": "together-purse",
   "metadata": {},
   "outputs": [],
   "source": [
    "feat=data.columns\n",
    "feat"
   ]
  },
  {
   "cell_type": "code",
   "execution_count": null,
   "id": "tough-amendment",
   "metadata": {},
   "outputs": [],
   "source": [
    "#Handling Bigger Categorical Variables\n",
    "cat_var=['State','Subject_Car_Colour','Subject_Car_Make','LGA_Name']\n",
    "for i in cat_var:\n",
    "    print(data[i].value_counts())\n",
    "    list=data[i].value_counts().to_dict()\n",
    "    data[i]=data[i].map(list)\n",
    "    data[i]=data[i]/len(data[i])"
   ]
  },
  {
   "cell_type": "code",
   "execution_count": null,
   "id": "hazardous-threshold",
   "metadata": {
    "scrolled": true
   },
   "outputs": [],
   "source": [
    "#One hot encoding\n",
    "gender_dummies=pd.get_dummies(data['Gender']).add_prefix('Gender_')\n",
    "data=pd.concat([data,gender_dummies],axis=1).drop('Gender',axis=1)\n",
    "\n",
    "p_name_dummies=pd.get_dummies(data['ProductName']).add_prefix('ProductName_')\n",
    "data=pd.concat([data,p_name_dummies],axis=1).drop('ProductName',axis=1)\n",
    "\n",
    "car_cat_dummies=pd.get_dummies(data['Car_Category']).add_prefix('Car Category_')\n",
    "data=pd.concat([data,car_cat_dummies],axis=1).drop('Car_Category',axis=1)"
   ]
  },
  {
   "cell_type": "code",
   "execution_count": null,
   "id": "committed-bibliography",
   "metadata": {},
   "outputs": [],
   "source": [
    "data.info()"
   ]
  },
  {
   "cell_type": "code",
   "execution_count": null,
   "id": "intermediate-allah",
   "metadata": {},
   "outputs": [],
   "source": [
    "#Datetime Features\n",
    "date_var=['First Transaction Date','Policy Start Date','Policy End Date']\n",
    "for i in date_var:\n",
    "\tdata[i]=pd.to_datetime(data[i])\n",
    "\t\n",
    "data['Number Of Policy Date']=data['Policy End Date']-data['Policy Start Date']\n",
    "data['Number Of Policy Date']=data['Number Of Policy Date'].dt.days.astype('int16')\n",
    "\n",
    "data['First Transaction Date'+'Year']=data['First Transaction Date'].dt.year\n",
    "data['First Transaction Date'+'Month']=data['First Transaction Date'].dt.month\n",
    "data['First Transaction Date'+'Day']=data['First Transaction Date'].dt.day\n",
    "\n",
    "data.drop(['First Transaction Date','Policy Start Date','Policy End Date'],axis=1,inplace=True)"
   ]
  },
  {
   "cell_type": "code",
   "execution_count": null,
   "id": "innovative-yorkshire",
   "metadata": {},
   "outputs": [],
   "source": [
    "data.head()"
   ]
  },
  {
   "cell_type": "code",
   "execution_count": null,
   "id": "consolidated-broadway",
   "metadata": {},
   "outputs": [],
   "source": [
    "data.info()"
   ]
  },
  {
   "cell_type": "code",
   "execution_count": null,
   "id": "increasing-geneva",
   "metadata": {},
   "outputs": [],
   "source": [
    "data['No_Pol'].unique()"
   ]
  },
  {
   "cell_type": "code",
   "execution_count": null,
   "id": "legitimate-burning",
   "metadata": {},
   "outputs": [],
   "source": [
    "data.loc[data['Age']<0,'Age']=0\n",
    "data.loc[data['Age']>200,'Age']=0\n",
    "\n",
    "data['Age'].unique()"
   ]
  },
  {
   "cell_type": "code",
   "execution_count": null,
   "id": "selective-capacity",
   "metadata": {},
   "outputs": [],
   "source": [
    "new_col=data.columns\n",
    "imp=SimpleImputer(strategy='mean')\n",
    "data=data.values\n",
    "X=imp.fit_transform(data)\n",
    "\n",
    "data=pd.DataFrame(X,columns=new_col)\n",
    "\n",
    "for col in new_col:\n",
    "    print(data[col].value_counts())"
   ]
  },
  {
   "cell_type": "code",
   "execution_count": null,
   "id": "gentle-lindsay",
   "metadata": {},
   "outputs": [],
   "source": [
    "#Handling Age Binning\n",
    "print(data.Age.unique());print()\n",
    "bins=[0,25,50,75,150]\n",
    "which_bin=np.digitize(data.Age,bins)\n",
    "cat=pd.cut(data['Age'],bins)\n",
    "print(which_bin[:10]);print()\n",
    "print(pd.value_counts(cat));print()\n",
    "data['Age']=which_bin\n",
    "data['Age'].unique()"
   ]
  },
  {
   "cell_type": "code",
   "execution_count": null,
   "id": "billion-water",
   "metadata": {},
   "outputs": [],
   "source": [
    "#Handling Pol Binning\n",
    "print(data.No_Pol.unique());print()\n",
    "bin2=[0,3,7,11]\n",
    "which_bin2=np.digitize(data.No_Pol,bin2)\n",
    "cat2=pd.cut(data['No_Pol'],bin2)\n",
    "print(which_bin2[:10]);print()\n",
    "print(pd.value_counts(cat2));print()\n",
    "data['No_Pol']=which_bin2\n",
    "print(data['No_Pol'].unique())"
   ]
  },
  {
   "cell_type": "code",
   "execution_count": null,
   "id": "gothic-championship",
   "metadata": {},
   "outputs": [],
   "source": [
    "data.info()"
   ]
  },
  {
   "cell_type": "code",
   "execution_count": null,
   "id": "headed-messaging",
   "metadata": {},
   "outputs": [],
   "source": [
    "data.tail()"
   ]
  },
  {
   "cell_type": "code",
   "execution_count": null,
   "id": "weighted-announcement",
   "metadata": {},
   "outputs": [],
   "source": [
    "train=data[:o_t.shape[0]]\n",
    "test=data[o_t.shape[0]:]\n",
    "\n",
    "X_train,X_test,y_train,y_test=train_test_split(train,target,random_state=16,test_size=0.25)\n",
    "\n",
    "kfold=StratifiedKFold(n_splits=5,shuffle=True,random_state=16)"
   ]
  },
  {
   "cell_type": "code",
   "execution_count": null,
   "id": "occasional-warren",
   "metadata": {},
   "outputs": [],
   "source": [
    "pipe_lr=Pipeline([('scaler',StandardScaler()),('lr',LogisticRegression(max_iter=10000,C=150))])\n",
    "pipe_svm=Pipeline([('scaler',StandardScaler()),('svm',SVC(C=30,kernel='linear',gamma=0.5))])\n",
    "pipe_nn=Pipeline([('scaler',StandardScaler()),('nn',MLPClassifier(max_iter=10000,alpha=0.1,random_state=16))])\n",
    "pipe_dt=Pipeline([('dt',DecisionTreeClassifier(random_state=16,max_depth=7))])\n",
    "pipe_ad=Pipeline([('ad',AdaBoostClassifier(DecisionTreeClassifier(max_depth=7),random_state=16,learning_rate=0.8,n_estimators=320))])\n",
    "pipe_rf=Pipeline([('rf',RandomForestClassifier(random_state=16,max_depth=7,n_estimators=200))])\n",
    "pipe_gb=Pipeline([('gb',GradientBoostingClassifier(random_state=16,max_depth=7,n_estimators=200,learning_rate=0.6))])"
   ]
  },
  {
   "cell_type": "markdown",
   "id": "grand-monitor",
   "metadata": {},
   "source": [
    "## Oversampling"
   ]
  },
  {
   "cell_type": "code",
   "execution_count": null,
   "id": "adverse-puppy",
   "metadata": {},
   "outputs": [],
   "source": [
    "train=pd.concat([train,df.target],axis=1)\n",
    "\n",
    "count_class_0,count_class_1=train.target.value_counts()\n",
    "df_class_0=train[train['target']==0]\n",
    "df_class_1=train[train['target']==1]\n",
    "df_class_1_over=df_class_1.sample(count_class_0,replace=True)\n",
    "df_over=pd.concat([df_class_1_over,df_class_0],axis=0)\n",
    "\n",
    "print('Majority Class Shape:{}'.format(df_class_0.shape))\n",
    "print('Minority Class Shape:{}'.format(df_class_1.shape))\n",
    "print('Minority Class Shape After Oversampling:{}'.format(df_class_1_over.shape))"
   ]
  },
  {
   "cell_type": "markdown",
   "id": "royal-briefing",
   "metadata": {},
   "source": [
    "## Data Segregation"
   ]
  },
  {
   "cell_type": "code",
   "execution_count": null,
   "id": "swiss-spectacular",
   "metadata": {},
   "outputs": [],
   "source": [
    "X=df_over.drop('target',axis=1)\n",
    "y=df_over.target\n",
    "\n",
    "X_train,X_test,y_train,y_test=train_test_split(X,y,random_state=16,stratify=y)"
   ]
  },
  {
   "cell_type": "markdown",
   "id": "lined-illustration",
   "metadata": {},
   "source": [
    "## Pipeline Generation"
   ]
  },
  {
   "cell_type": "code",
   "execution_count": null,
   "id": "indoor-kennedy",
   "metadata": {},
   "outputs": [],
   "source": [
    "kfold=StratifiedKFold(n_splits=5,shuffle=True,random_state=16)\n",
    "pipe_lr=Pipeline([('scaler',StandardScaler()),('lr',LogisticRegression(max_iter=10000,C=150))])\n",
    "pipe_svm=Pipeline([('scaler',StandardScaler()),('svm',SVC(C=100,kernel='rbf',gamma=10))])\n",
    "pipe_nn=Pipeline([('scaler',StandardScaler()),('nn',MLPClassifier(max_iter=10000,alpha=0.1,random_state=16))])\n",
    "pipe_dt=Pipeline([('dt',DecisionTreeClassifier(random_state=16,max_depth=7))])\n",
    "pipe_ad=Pipeline([('ad',AdaBoostClassifier(DecisionTreeClassifier(max_depth=7),random_state=16,learning_rate=0.8,n_estimators=320))])\n",
    "pipe_rf=Pipeline([('rf',RandomForestClassifier(random_state=16,max_depth=7,n_estimators=200))])\n",
    "pipe_gb=Pipeline([('gb',GradientBoostingClassifier(random_state=16,max_depth=7,n_estimators=200,learning_rate=0.6))])"
   ]
  },
  {
   "cell_type": "markdown",
   "id": "tired-karen",
   "metadata": {},
   "source": [
    "## Algorithm Functions"
   ]
  },
  {
   "cell_type": "code",
   "execution_count": null,
   "id": "colonial-scanning",
   "metadata": {},
   "outputs": [],
   "source": [
    "def MBU(model_name,model,predict_name):\n",
    "    print(model_name)\n",
    "    model.fit(X_train,y_train)\n",
    "    predict_name=model.predict(X_test)\n",
    "    train_score=model.score(X_train,y_train)\n",
    "    test_score=model.score(X_test,y_test)\n",
    "    con_mat=confusion_matrix(y_test,predict_name)\n",
    "    class_rep=classification_report(y_test,predict_name)\n",
    "\n",
    "    return model,predict_name,train_score,test_score,con_mat,class_rep\n",
    "\n",
    "def print_stat(train_score,test_score,con_mat,class_rep):\n",
    "    print('Train set score:{:.3f}'.format(train_score))\n",
    "    print('Test set score:{:.3f}'.format(test_score));print()\n",
    "    print('Confusion Matrix\\n{}'.format(con_mat))\n",
    "    print('Classification Report\\n{}'.format(class_rep))\n",
    "\n",
    "def cross_valid(model,scoring,model_name,train,target):\n",
    "    print('CROSS VALIDATIONS ON\\t'+model_name)\n",
    "    score=cross_val_score(model,train,target,scoring=scoring,cv=kfold)\n",
    "    print('Cross Validation Scores:{}'.format(score));print()\n",
    "    print('Cross Validation Scores:{:.3f}'.format(score.mean()))"
   ]
  },
  {
   "cell_type": "code",
   "execution_count": null,
   "id": "contemporary-tract",
   "metadata": {},
   "outputs": [],
   "source": [
    "model_lr,predict_name,train_score,test_score,con_mat,class_rep=MBU('LogisticRegression',pipe_lr,'pred_lr')\n",
    "print_stat(train_score,test_score,con_mat,class_rep)\n",
    "\n",
    "model_svm,predict_name,train_score,test_score,con_mat,class_rep=MBU('Support Vector Mechanism',pipe_svm,'pred_svm')\n",
    "print_stat(train_score,test_score,con_mat,class_rep)\n",
    "\n",
    "model_nn,predict_name,train_score,test_score,con_mat,class_rep=MBU('Neural Network',pipe_nn,'pred_nn')\n",
    "print_stat(train_score,test_score,con_mat,class_rep)\n",
    "\n",
    "model_dt,predict_name,train_score,test_score,con_mat,class_rep=MBU('Decision Tree',pipe_dt,'pred_dt')\n",
    "print_stat(train_score,test_score,con_mat,class_rep)\n",
    "\n",
    "model_ad,predict_name,train_score,test_score,con_mat,class_rep=MBU('AdaBoost',pipe_ad,'pred_ad')\n",
    "print_stat(train_score,test_score,con_mat,class_rep)\n",
    "\n",
    "model_rf,predict_name,train_score,test_score,con_mat,class_rep=MBU('RandomForest',pipe_rf,'pred_rf')\n",
    "print_stat(train_score,test_score,con_mat,class_rep)\n",
    "\n",
    "model_gb,predict_name,train_score,test_score,con_mat,class_rep=MBU('GradientBoosting',pipe_gb,'pred_gb')\n",
    "print_stat(train_score,test_score,con_mat,class_rep)"
   ]
  }
 ],
 "metadata": {
  "kernelspec": {
   "display_name": "Python 3",
   "language": "python",
   "name": "python3"
  },
  "language_info": {
   "codemirror_mode": {
    "name": "ipython",
    "version": 3
   },
   "file_extension": ".py",
   "mimetype": "text/x-python",
   "name": "python",
   "nbconvert_exporter": "python",
   "pygments_lexer": "ipython3",
   "version": "3.8.3"
  }
 },
 "nbformat": 4,
 "nbformat_minor": 5
}
